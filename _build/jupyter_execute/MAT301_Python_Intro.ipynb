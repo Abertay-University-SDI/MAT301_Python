{
 "cells": [
  {
   "cell_type": "markdown",
   "id": "6ec91ce8",
   "metadata": {
    "id": "6ec91ce8"
   },
   "source": [
    "\n",
    "# Introduction to Python\n",
    "\n",
    "Interactive code to introduce and illustrate basic mathematics operations using Python libraries, for undergraduate mathematics course MAT301 at Abertay University (JT 2022)."
   ]
  },
  {
   "cell_type": "markdown",
   "id": "-I-mGQzvALt3",
   "metadata": {
    "id": "-I-mGQzvALt3"
   },
   "source": [
    "### General introduction\n",
    "\n",
    "This notebook lists examples of simple Python commands and programs that can be used to help with the understanding of MAT301 content, particularly in the area of numerical algorithms. Students can use Python to check their answers and visually see the mathematics in action. More broadly, a wide knowledge and ability to use other programming languages may help with problem solving and employability. \n",
    "\n",
    "This is a Jupyter notebook launched from within the Anaconda data science platform. Anaconda can be downloaded here:\n",
    "\n",
    "[https://www.anaconda.com](https://www.anaconda.com)\n",
    "\n",
    "Python is an open-source programming language used extensively around the world. It is also vital for carrying out Scientific Computation.\n",
    "\n",
    "To execute commands in Jupyter, either Run the cell or hit SHIFT + ENTER.\n",
    "\n",
    "Alternatively, you can perform cloud computing using Google Colab:\n",
    "\n",
    "[https://colab.research.google.com/](https://colab.research.google.com/)\n",
    "\n",
    "You will need a Google account to perform cloud computing, but the commands are (largely) the same. One can also click the \"play\" button next to an executable segment of code to run that code."
   ]
  },
  {
   "cell_type": "markdown",
   "id": "cR4EewJ7VEvT",
   "metadata": {
    "id": "cR4EewJ7VEvT"
   },
   "source": [
    "Notebooks in Jupyter look like this: ![Jupyter screenshot](https://github.com/jwt104/MAT201DynamicsWithPythonBook/blob/main/JupyterNotebook_my_first_plot.png?raw=1)\n",
    "\n",
    "Note that they comprise of markdown cells and code cells. This text is a markdown cell. Below, you can see my first code cell, containing the classic first command:"
   ]
  },
  {
   "cell_type": "code",
   "execution_count": 1,
   "id": "vqyaiKHHVEJi",
   "metadata": {
    "colab": {
     "base_uri": "https://localhost:8080/"
    },
    "id": "vqyaiKHHVEJi",
    "outputId": "9db12b80-4d84-4f61-f05f-02612a4ce1f9"
   },
   "outputs": [
    {
     "name": "stdout",
     "output_type": "stream",
     "text": [
      "Hello, World\n"
     ]
    }
   ],
   "source": [
    "print(\"Hello, World\")"
   ]
  },
  {
   "cell_type": "markdown",
   "id": "Vt7Aw8S_WeVN",
   "metadata": {
    "id": "Vt7Aw8S_WeVN"
   },
   "source": [
    "The output should always appear below each code cell (if there is any).\n",
    "\n",
    "Note if you hit ENTER without the shift, the notebook will either open the cell for editing, or perform a carriage return within that cell instead. You can edit code or text, then run it with SHIFT + ENTER.\n",
    "\n",
    "Try modifying this statement yourself: **Python is ....**\n",
    "\n",
    "I encourage you to make copies of notebooks (to augment your lecture notes) and save them to your own computer or OneDrive areas. "
   ]
  },
  {
   "cell_type": "markdown",
   "id": "lL5a9mJDWqV0",
   "metadata": {
    "id": "lL5a9mJDWqV0"
   },
   "source": [
    "Python has extended functionality through libraries containing lots of extra commands, functions, and useful stuff. We import these libraries and commands using the *import* command:"
   ]
  },
  {
   "cell_type": "code",
   "execution_count": 2,
   "id": "-b5QwEmVVDdR",
   "metadata": {
    "id": "-b5QwEmVVDdR"
   },
   "outputs": [],
   "source": [
    "import time\n",
    "time.sleep(3)"
   ]
  },
  {
   "cell_type": "markdown",
   "id": "0ZB6Tnf3XAYB",
   "metadata": {
    "id": "0ZB6Tnf3XAYB"
   },
   "source": [
    "In this case, we have run a command which takes 3 seconds to execute and produces no output. Note that when the code is running the symbol within the square brackets changes (indicating it is running).\n",
    " "
   ]
  },
  {
   "cell_type": "markdown",
   "id": "1FeIKZaxX2zu",
   "metadata": {
    "id": "1FeIKZaxX2zu"
   },
   "source": [
    "There are **many** detailed introductions to Jupyter notebooks, and Google colab, including textbooks, online workshops, videos, notebooks, theatrical productions (well maybe)... most are available on the web, like\n",
    "[this one](https://www.dataquest.io/blog/jupyter-notebook-tutorial/). Youtube videos [like this one](https://youtu.be/RLYoEyIHL6A) also allow you to see this process as you would on your machine.\n",
    "\n",
    "\n",
    "\n",
    "---\n",
    "\n"
   ]
  },
  {
   "cell_type": "markdown",
   "id": "pTx6EHP_0hl6",
   "metadata": {
    "id": "pTx6EHP_0hl6"
   },
   "source": [
    "## Symbolic Computation\n",
    "\n",
    "One element of Python that is particularly useful to mathematicians is its ability to use symbolic computation to solve mathematical tasks, for example in algebra or calculus. This section will illustrate basic use of a Python library called [Sympy](https://www.sympy.org/en/index.html). Like other Python packages, it is well documented, and widely used.\n",
    "\n",
    "Let's go ahead and load in the libraries we need: in this case, we'll focus solely on *sympy* (and when we import it, we'll shorten its name to make things easier every time we use one of it's commands):"
   ]
  },
  {
   "cell_type": "code",
   "execution_count": 3,
   "id": "c10d447e",
   "metadata": {
    "id": "c10d447e"
   },
   "outputs": [],
   "source": [
    "import sympy as sym"
   ]
  },
  {
   "cell_type": "markdown",
   "id": "XsD0TeYDCvUh",
   "metadata": {
    "id": "XsD0TeYDCvUh"
   },
   "source": [
    "Let's very briefly look at some capabilities of *sympy*. *Sympy* has three data types, Real Integer and Rational. Rational numbers are probably better known as fractions. If we wanted to work with the fraction of one half, for example, we could write this as a real number $0.5$, or as a fraction:"
   ]
  },
  {
   "cell_type": "code",
   "execution_count": 4,
   "id": "4ROByh4ZBQnW",
   "metadata": {
    "colab": {
     "base_uri": "https://localhost:8080/"
    },
    "id": "4ROByh4ZBQnW",
    "outputId": "3472ef25-a132-4ab8-ac87-bfa3a8580c8e"
   },
   "outputs": [
    {
     "name": "stdout",
     "output_type": "stream",
     "text": [
      "1/2\n"
     ]
    }
   ],
   "source": [
    "onehalf = sym.Rational(1,2)\n",
    "print(onehalf)"
   ]
  },
  {
   "cell_type": "markdown",
   "id": "W3BRQHt2BagK",
   "metadata": {
    "id": "W3BRQHt2BagK"
   },
   "source": [
    "We can perform basic maths with symbols in the usual way (e.g. addition, subtraction, multiplication, division):"
   ]
  },
  {
   "cell_type": "code",
   "execution_count": 5,
   "id": "tKw1eJPfBx3x",
   "metadata": {
    "colab": {
     "base_uri": "https://localhost:8080/"
    },
    "id": "tKw1eJPfBx3x",
    "outputId": "6907936c-227f-4b94-fe2f-40d9201ea24c"
   },
   "outputs": [
    {
     "name": "stdout",
     "output_type": "stream",
     "text": [
      "4*onehalf= 2\n"
     ]
    }
   ],
   "source": [
    "print(\"4*onehalf=\", 4 * onehalf)"
   ]
  },
  {
   "cell_type": "markdown",
   "id": "Adj0U5GeBxgE",
   "metadata": {
    "id": "Adj0U5GeBxgE"
   },
   "source": [
    "We can use symbolic constants like $pi$, $e$ (as in the exponential) or indeed infinity:"
   ]
  },
  {
   "cell_type": "code",
   "execution_count": 6,
   "id": "SJ_q_xh5B9NA",
   "metadata": {
    "colab": {
     "base_uri": "https://localhost:8080/"
    },
    "id": "SJ_q_xh5B9NA",
    "outputId": "6d26c7f8-263d-417f-9d36-1a7315576912"
   },
   "outputs": [
    {
     "name": "stdout",
     "output_type": "stream",
     "text": [
      "3.14159265358979\n"
     ]
    }
   ],
   "source": [
    "mypi = sym.pi\n",
    "print(mypi.evalf())"
   ]
  },
  {
   "cell_type": "markdown",
   "id": "mJn6bWd-CQwn",
   "metadata": {
    "id": "mJn6bWd-CQwn"
   },
   "source": [
    "This is just for starters: we can build systems of equations if we tell Python that some symbols represent unknown numbers:"
   ]
  },
  {
   "cell_type": "code",
   "execution_count": 7,
   "id": "Z9UmmHj3CMz-",
   "metadata": {
    "colab": {
     "base_uri": "https://localhost:8080/"
    },
    "id": "Z9UmmHj3CMz-",
    "outputId": "f285a7d7-6204-4f2d-ee9c-5858700f6ad0"
   },
   "outputs": [
    {
     "name": "stdout",
     "output_type": "stream",
     "text": [
      "3*x + 1/2\n"
     ]
    }
   ],
   "source": [
    "x, y = sym.Symbol('x'), sym.Symbol('y')\n",
    "print(x + 2 * x + onehalf)"
   ]
  },
  {
   "cell_type": "markdown",
   "id": "C5I_1fn3CP-O",
   "metadata": {
    "id": "C5I_1fn3CP-O"
   },
   "source": [
    "See how Python has simplified the above expression, and added together the x terms? We can get it to do more complicated algebra:"
   ]
  },
  {
   "cell_type": "code",
   "execution_count": 8,
   "id": "-QxVl4f_C6yy",
   "metadata": {
    "colab": {
     "base_uri": "https://localhost:8080/",
     "height": 54
    },
    "id": "-QxVl4f_C6yy",
    "outputId": "0938ec85-c036-4322-88ef-39129ccda1e3"
   },
   "outputs": [
    {
     "data": {
      "text/latex": [
       "$\\displaystyle x^{2} + x y + \\frac{y^{2}}{4}$"
      ],
      "text/plain": [
       "x**2 + x*y + y**2/4"
      ]
     },
     "execution_count": 8,
     "metadata": {},
     "output_type": "execute_result"
    }
   ],
   "source": [
    "sym.expand( (x + onehalf * y)**2 )"
   ]
  },
  {
   "cell_type": "markdown",
   "id": "TID0QqnmDura",
   "metadata": {
    "id": "TID0QqnmDura"
   },
   "source": [
    "Sympy has expanded this binomial, just like we would using pen and paper. It knows all the rules we do! It also knows lots about trigonometric functions. The *simplify* command can simplify expressions, using all of the maths knowledge in the library. We know that $\\cos^2{(x)}+\\sin^2{(x)}=1$; so does sympy:"
   ]
  },
  {
   "cell_type": "code",
   "execution_count": 9,
   "id": "O62zna5xDXWZ",
   "metadata": {
    "colab": {
     "base_uri": "https://localhost:8080/"
    },
    "id": "O62zna5xDXWZ",
    "outputId": "f8f1d116-2170-49c2-efd3-227aedc3baa8"
   },
   "outputs": [
    {
     "name": "stdout",
     "output_type": "stream",
     "text": [
      "sin(x)**2 + cos(x)**2\n"
     ]
    },
    {
     "name": "stdout",
     "output_type": "stream",
     "text": [
      "1\n"
     ]
    }
   ],
   "source": [
    "print( sym.cos(x) * sym.cos(x) + sym.sin(x) * sym.sin(x))\n",
    "print( sym.simplify( sym.cos(x) * sym.cos(x) + sym.sin(x) * sym.sin(x)) )"
   ]
  },
  {
   "cell_type": "markdown",
   "id": "FA_QrgsQDt90",
   "metadata": {
    "id": "FA_QrgsQDt90"
   },
   "source": [
    "It can even perform calculus operations like differentiation and integration:"
   ]
  },
  {
   "cell_type": "code",
   "execution_count": 10,
   "id": "NQQxjrSKENQA",
   "metadata": {
    "colab": {
     "base_uri": "https://localhost:8080/",
     "height": 38
    },
    "id": "NQQxjrSKENQA",
    "outputId": "bc16fc31-c905-4611-88e1-4ab55d48319c"
   },
   "outputs": [
    {
     "data": {
      "text/latex": [
       "$\\displaystyle x$"
      ],
      "text/plain": [
       "x"
      ]
     },
     "execution_count": 10,
     "metadata": {},
     "output_type": "execute_result"
    }
   ],
   "source": [
    "sym.diff(onehalf * x ** 2, x)"
   ]
  },
  {
   "cell_type": "markdown",
   "id": "7Fc4_nBbDMkk",
   "metadata": {
    "id": "7Fc4_nBbDMkk"
   },
   "source": [
    "where the command has differentiated the first expression with respect to x. We can perform partial derivatives just as easily: lets say we need \\begin{equation} \n",
    "\\frac{\\partial}{\\partial x} \\left(x^3+y+axy\\right), \n",
    "\\end{equation}\n",
    "where $x$ and $y$ are independent variables:"
   ]
  },
  {
   "cell_type": "code",
   "execution_count": 11,
   "id": "GrtJ1vJ_EsiE",
   "metadata": {
    "colab": {
     "base_uri": "https://localhost:8080/",
     "height": 47
    },
    "id": "GrtJ1vJ_EsiE",
    "outputId": "a854b169-2aa1-4d7e-f2be-9d629aa2d189"
   },
   "outputs": [
    {
     "data": {
      "text/latex": [
       "$\\displaystyle 3 x^{2} + \\frac{y}{2}$"
      ],
      "text/plain": [
       "3*x**2 + y/2"
      ]
     },
     "execution_count": 11,
     "metadata": {},
     "output_type": "execute_result"
    }
   ],
   "source": [
    "sym.diff(x ** 3 + y + onehalf * x * y , x)"
   ]
  },
  {
   "cell_type": "markdown",
   "id": "3gt3nw5MEsIl",
   "metadata": {
    "id": "3gt3nw5MEsIl"
   },
   "source": [
    "easy peasy! What about integration? We know that (ignoring the constants of integration for now) \n",
    "\\begin{equation}\\int \\frac{1}{{x}} ~{\\rm{d}}x=\\ln{|x|}+c,\\end{equation} but so does sympy:"
   ]
  },
  {
   "cell_type": "code",
   "execution_count": 12,
   "id": "TTeGwaoOF37N",
   "metadata": {
    "colab": {
     "base_uri": "https://localhost:8080/",
     "height": 38
    },
    "id": "TTeGwaoOF37N",
    "outputId": "6dd64374-c2e8-408c-989d-78ec9cf141f7"
   },
   "outputs": [
    {
     "data": {
      "text/latex": [
       "$\\displaystyle \\log{\\left(x \\right)}$"
      ],
      "text/plain": [
       "log(x)"
      ]
     },
     "execution_count": 12,
     "metadata": {},
     "output_type": "execute_result"
    }
   ],
   "source": [
    "sym.integrate(1 / x, x)"
   ]
  },
  {
   "cell_type": "markdown",
   "id": "jB5nlRxJGUbK",
   "metadata": {
    "id": "jB5nlRxJGUbK"
   },
   "source": [
    "(also noting that sympy refers to natural log ($ln$) as \"log\"). Sympy can also solve equations or sets of equations in one line:"
   ]
  },
  {
   "cell_type": "code",
   "execution_count": 13,
   "id": "fcueow_VGiT_",
   "metadata": {
    "colab": {
     "base_uri": "https://localhost:8080/"
    },
    "id": "fcueow_VGiT_",
    "outputId": "bcbdddba-5041-4200-ad18-603396bf490a"
   },
   "outputs": [
    {
     "data": {
      "text/plain": [
       "(-3, 1)"
      ]
     },
     "execution_count": 13,
     "metadata": {},
     "output_type": "execute_result"
    }
   ],
   "source": [
    "solution = sym.solve((x + 5 * y - 2, -3 * x + 6 * y - 15), (x, y))\n",
    "solution[x], solution[y]"
   ]
  },
  {
   "cell_type": "markdown",
   "id": "pPJ0NBpp5mfe",
   "metadata": {
    "id": "pPJ0NBpp5mfe"
   },
   "source": [
    "It can also solve matrix equations and tons of other clever things. For this lecture course, and particularly its application to numerical techniques, this is largely unecessary, but demonstrates some of the powerful tools Python can bring to bear."
   ]
  },
  {
   "cell_type": "markdown",
   "id": "VrmTpkTWQMVw",
   "metadata": {
    "id": "VrmTpkTWQMVw"
   },
   "source": [
    "## Plotting\n",
    "\n",
    "A final tool that is really useful for us is visualisation, i.e. plotting. Numbers printed on the page sometimes mean little until we compare them with the true solution.\n",
    "\n",
    "To plot figures, we need to load in some extra libraries. *numpy* and *math* are also useful for intrinsic maths concepts (as their name suggests). *matplotlib* again is a complex library that goes far beyond our needs for now. We'll simply import the basic plotting command *pyplot* from this library:"
   ]
  },
  {
   "cell_type": "code",
   "execution_count": 14,
   "id": "1NRhiomiQwxP",
   "metadata": {
    "id": "1NRhiomiQwxP"
   },
   "outputs": [],
   "source": [
    "import numpy as np\n",
    "import math \n",
    "import matplotlib.pyplot as plt "
   ]
  },
  {
   "cell_type": "markdown",
   "id": "0jp7mpU8Qy_E",
   "metadata": {
    "id": "0jp7mpU8Qy_E"
   },
   "source": [
    "Now we need to create some example data. Lets use the graph of $\\sin^2(x)$. To do this we have to set up an array of numbers as our independent variable, $x$. For arguments sake, we'll choose $1000$ values in the range between $0$ and $10\\pi$."
   ]
  },
  {
   "cell_type": "code",
   "execution_count": 15,
   "id": "TamS8A7IQyz1",
   "metadata": {
    "id": "TamS8A7IQyz1"
   },
   "outputs": [],
   "source": [
    "x = np.linspace(0, 10 * np.pi, 10 ** 3)\n",
    "y = np.sin(x) * np.sin(x)"
   ]
  },
  {
   "cell_type": "markdown",
   "id": "UIU0y_crQyoU",
   "metadata": {
    "id": "UIU0y_crQyoU"
   },
   "source": [
    "Now we create our plot. Python can plot data already stored in variables, or calculate the data on the fly. Lets create a plot below illustrating what happens when we add $\\sin^2(x)$ and $\\cos^2(x)$ together, with labelled axis and even a quick legend:"
   ]
  },
  {
   "cell_type": "code",
   "execution_count": 16,
   "id": "9a8e9519",
   "metadata": {
    "colab": {
     "base_uri": "https://localhost:8080/",
     "height": 513
    },
    "id": "9a8e9519",
    "outputId": "329bba12-42ea-4971-97e0-ec2807054e96"
   },
   "outputs": [
    {
     "data": {
      "image/png": "[encoded data removed]",
      "text/plain": [
       "<Figure size 864x576 with 1 Axes>"
      ]
     },
     "metadata": {
      "filenames": {
       "image/png": "/Users/jamesthrelfall/Programs/JTpython/Teaching_Examples/AbertayOfficial/MAT301_Python/_build/jupyter_execute/MAT301_Python_Intro_37_0.png"
      },
      "needs_background": "light"
     },
     "output_type": "display_data"
    }
   ],
   "source": [
    "plt.figure(figsize = (12, 8))\n",
    "plt.plot(x, y, 'b', label='sin^2(x)')\n",
    "plt.plot(x, np.cos(x) * np.cos(x), 'g', label='cos^2(x)')\n",
    "plt.plot(x, y + np.cos(x) * np.cos(x), 'r', label='cos^2(x)+sin^2(x)')\n",
    "plt.title('An example plot')\n",
    "plt.xlabel('x')\n",
    "plt.ylabel('f(x)')\n",
    "plt.grid()\n",
    "plt.legend(loc='lower right')\n",
    "plt.show()"
   ]
  },
  {
   "cell_type": "markdown",
   "id": "peC-uj22TXWA",
   "metadata": {
    "id": "peC-uj22TXWA"
   },
   "source": [
    "Some of these simple tools will be useful in later workbooks. Remember, Python is incredibly well documented online, so if you encounter a problem with a command or library, try a targeted online search (or ask me for help)!"
   ]
  },
  {
   "cell_type": "code",
   "execution_count": null,
   "id": "Aeyazb_7dJNj",
   "metadata": {
    "id": "Aeyazb_7dJNj"
   },
   "outputs": [],
   "source": []
  }
 ],
 "metadata": {
  "colab": {
   "include_colab_link": true,
   "provenance": []
  },
  "kernelspec": {
   "display_name": "Python 3 (ipykernel)",
   "language": "python",
   "name": "python3"
  },
  "language_info": {
   "codemirror_mode": {
    "name": "ipython",
    "version": 3
   },
   "file_extension": ".py",
   "mimetype": "text/x-python",
   "name": "python",
   "nbconvert_exporter": "python",
   "pygments_lexer": "ipython3",
   "version": "3.9.16"
  }
 },
 "nbformat": 4,
 "nbformat_minor": 5
}